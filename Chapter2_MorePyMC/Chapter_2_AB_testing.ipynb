{
 "cells": [
  {
   "cell_type": "code",
   "execution_count": null,
   "metadata": {},
   "outputs": [],
   "source": [
    "%matplotlib inline\n",
    "import tensorflow as tf\n",
    "import tensorflow_probability as tfp\n",
    "import numpy as np\n",
    "import seaborn as sns\n",
    "from matplotlib import pyplot as plt"
   ]
  },
  {
   "cell_type": "code",
   "execution_count": null,
   "metadata": {},
   "outputs": [],
   "source": [
    "p_true_A = 0.05\n",
    "p_true_B = 0.15\n",
    "\n",
    "N_A = 2500\n",
    "N_B = 1000\n",
    "\n",
    "coin_A = tfp.distributions.Bernoulli(name='coin_A', probs=p_true_A)\n",
    "coin_B = tfp.distributions.Bernoulli(name='coin_B', probs=p_true_B)\n",
    "\n",
    "with tf.Session() as sess:\n",
    "    flips_A, flips_B = sess.run([coin_A.sample(N_A), coin_B.sample(N_B)])\n",
    "    \n",
    "print(flips_A.mean(), flips_B.mean())\n",
    "print(flips_A.sum(), flips_B.sum())"
   ]
  },
  {
   "cell_type": "code",
   "execution_count": null,
   "metadata": {},
   "outputs": [],
   "source": [
    "def model():\n",
    "    p_A = tfp.edward2.Uniform(name='p_A', low=0., high=1.)\n",
    "    p_B = tfp.edward2.Uniform(name='p_B', low=0., high=1.)\n",
    "    \n",
    "#     obs_A = tfp.edward2.Bernoulli(name='obs_A', probs=tf.zeros(N_A)+p_A)\n",
    "#     obs_B = tfp.edward2.Bernoulli(name='obs_B', probs=tf.zeros(N_B)+p_B)\n",
    "    obs_A = tfp.edward2.Binomial(name='obs_A', total_count=float(N_A), probs=p_A)\n",
    "    obs_B = tfp.edward2.Binomial(name='obs_B', total_count=float(N_B), probs=p_B)\n",
    "    return obs_A, obs_B\n",
    "\n",
    "log_joint = tfp.edward2.make_log_joint_fn(model)\n",
    "def log_joint_fn(p_A_in, p_B_in):\n",
    "    return log_joint(\n",
    "        p_A=p_A_in,\n",
    "        p_B=p_B_in,\n",
    "#         obs_A=flips_A,\n",
    "#         obs_B=flips_B\n",
    "#     )\n",
    "        obs_A=flips_A.sum(),\n",
    "        obs_B=flips_B.sum()\n",
    ")"
   ]
  },
  {
   "cell_type": "code",
   "execution_count": null,
   "metadata": {
    "scrolled": true
   },
   "outputs": [],
   "source": [
    "states, kernel_results = tfp.mcmc.sample_chain(\n",
    "    num_results=10000,\n",
    "    num_burnin_steps=500,\n",
    "    current_state=[\n",
    "        tfp.edward2.Uniform(name='qp_A', low=0., high=1.),\n",
    "        tfp.edward2.Uniform(name='qp_B', low=0., high=1.)\n",
    "    ],\n",
    "    kernel=tfp.mcmc.HamiltonianMonteCarlo(\n",
    "        log_joint_fn,\n",
    "        step_size=0.001, ## Step size is critical to this problem.\n",
    "        num_leapfrog_steps=3\n",
    "    )) "
   ]
  },
  {
   "cell_type": "code",
   "execution_count": null,
   "metadata": {},
   "outputs": [],
   "source": [
    "with tf.Session() as sess:\n",
    "    [p_A, p_B] = sess.run(states)\n",
    "    \n",
    "print(p_A.mean(), p_B.mean())\n",
    "print(p_A.std(), p_B.std())"
   ]
  },
  {
   "cell_type": "code",
   "execution_count": null,
   "metadata": {},
   "outputs": [],
   "source": [
    "sns.distplot(p_A, label='p_A (p_A*={:3.3f}; support={})'.format(p_true_A, N_A))\n",
    "sns.distplot(p_B, label='p_B (p_B*={:3.3f}); support={}'.format(p_true_B, N_B))\n",
    "\n",
    "plt.vlines(p_true_A, 0, 70, linestyle='--')\n",
    "plt.vlines(p_true_B, 0, 70, linestyle='--')\n",
    "plt.legend()"
   ]
  },
  {
   "cell_type": "code",
   "execution_count": null,
   "metadata": {},
   "outputs": [],
   "source": []
  }
 ],
 "metadata": {
  "kernelspec": {
   "display_name": "Python 3",
   "language": "python",
   "name": "python3"
  },
  "language_info": {
   "codemirror_mode": {
    "name": "ipython",
    "version": 3
   },
   "file_extension": ".py",
   "mimetype": "text/x-python",
   "name": "python",
   "nbconvert_exporter": "python",
   "pygments_lexer": "ipython3",
   "version": "3.5.2"
  }
 },
 "nbformat": 4,
 "nbformat_minor": 2
}
