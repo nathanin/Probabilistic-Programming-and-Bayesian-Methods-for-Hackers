{
 "cells": [
  {
   "cell_type": "code",
   "execution_count": 1,
   "metadata": {
    "collapsed": false
   },
   "outputs": [],
   "source": [
    "%matplotlib inline\n",
    "import numpy as np\n",
    "import seaborn as sns\n",
    "\n",
    "import tensorflow as tf\n",
    "import tensorflow_probability as tfp\n",
    "\n",
    "import warnings\n",
    "warnings.simplefilter('ignore')\n",
    "\n",
    "from matplotlib import pyplot as plt\n",
    "plt.style.use('seaborn-white')"
   ]
  },
  {
   "cell_type": "code",
   "execution_count": 74,
   "metadata": {
    "collapsed": false
   },
   "outputs": [
    {
     "name": "stdout",
     "output_type": "stream",
     "text": [
      "[ 3.7820091  2.3164017 -0.1850428] [0.51015484 0.27397949 0.4222054 ] [0.17100239 0.11842528 0.7105723 ]\n",
      "(1000,)\n"
     ]
    },
    {
     "data": {
      "image/png": "[encoded data removed]",
      "text/plain": [
       "<Figure size 432x288 with 1 Axes>"
      ]
     },
     "metadata": {},
     "output_type": "display_data"
    }
   ],
   "source": [
    "# Generate mixture of 1D Gaussians\n",
    "dims = 1\n",
    "n_data = 1000\n",
    "\n",
    "components = 3\n",
    "centers_dist = tfp.distributions.Normal(loc=0., scale=3.).sample(components)\n",
    "stds_dist = tfp.distributions.Uniform(low=0.2, high=0.7).sample(components)\n",
    "p_dist = tfp.distributions.Dirichlet(concentration=[1./components]*components).sample()\n",
    "\n",
    "with tf.Session() as sess:\n",
    "    [centers, stds, p] = sess.run([centers_dist, stds_dist, p_dist])\n",
    "\n",
    "## I know these give nice results\n",
    "# components = 3\n",
    "# centers = [0.1, 1.]\n",
    "# stds = [0.3, 0.2]\n",
    "# p1 = 0.4\n",
    "# p = [p1, 1. - p1]\n",
    "\n",
    "print(centers, stds, p)\n",
    "\n",
    "dist = tfp.distributions.MixtureSameFamily(\n",
    "    mixture_distribution = tfp.distributions.Categorical(probs=p),\n",
    "    components_distribution = tfp.distributions.Normal(\n",
    "        loc=centers,\n",
    "        scale=stds))\n",
    "\n",
    "with tf.Session() as sess:\n",
    "    data = sess.run(dist.sample(n_data))\n",
    "    \n",
    "print(data.shape)\n",
    "_ = plt.hist(data, bins=50)"
   ]
  },
  {
   "cell_type": "markdown",
   "metadata": {},
   "source": [
    "I had many problems with the \n",
    "``` python\n",
    "def model():\n",
    "    ...\n",
    "    \n",
    "log_joint = tfp.edward2.make_log_joint_fn(model)\n",
    "```\n",
    "It seems like having the Categorical distribution as input to the log prob function causes errors.\n",
    "Many `None` gradients encountered.\n",
    "So, copy from the TFP BGMM [example](https://github.com/tensorflow/probability/blob/master/tensorflow_probability/examples/jupyter_notebooks/Bayesian_Gaussian_Mixture_Model.ipynb), without the custom MVN distribution (because I don't understand it). Alternatively, every error that wasn't a None gradient may have been a bad prior, or other problem with HMC."
   ]
  },
  {
   "cell_type": "code",
   "execution_count": 86,
   "metadata": {
    "collapsed": false
   },
   "outputs": [],
   "source": [
    "rv_p = tfp.distributions.Dirichlet(name='p', concentration=[1./components]*components)\n",
    "rv_mu = tfp.distributions.Normal(name='mu', loc=[0.]*components, scale=[3.]*components)\n",
    "rv_sigma = tfp.distributions.Uniform(name='sigma', low=[0.]*components, high=[1.]*components)\n",
    "\n",
    "def joint_log_prob(observations, p, loc, sigma):\n",
    "    rv_observations = tfp.distributions.MixtureSameFamily(\n",
    "        mixture_distribution=tfp.distributions.Categorical(probs=p),\n",
    "        components_distribution=tfp.distributions.Normal(\n",
    "            loc=loc, scale=sigma))\n",
    "    log_prob_parts = [\n",
    "        rv_observations.log_prob(observations),\n",
    "        rv_p.log_prob(p)[..., tf.newaxis],\n",
    "        rv_mu.log_prob(loc),\n",
    "        rv_sigma.log_prob(sigma)\n",
    "    ]\n",
    "    sum_log_prob = tf.reduce_sum(tf.concat(log_prob_parts, axis=-1))\n",
    "    return sum_log_prob"
   ]
  },
  {
   "cell_type": "code",
   "execution_count": 87,
   "metadata": {
    "collapsed": true
   },
   "outputs": [],
   "source": [
    "posterior_log_prob = lambda *args: joint_log_prob(data, *args)"
   ]
  },
  {
   "cell_type": "code",
   "execution_count": 88,
   "metadata": {
    "collapsed": false
   },
   "outputs": [],
   "source": [
    "initial_state = [\n",
    "    tfp.edward2.Dirichlet(concentration=[1./components]*components),\n",
    "    tfp.edward2.Normal(loc=[0.]*components, scale=[3.]*components),\n",
    "    tfp.edward2.Uniform(low=[0.]*components, high=[1.]*components)\n",
    "]"
   ]
  },
  {
   "cell_type": "code",
   "execution_count": 89,
   "metadata": {
    "collapsed": false
   },
   "outputs": [],
   "source": [
    "states, kernel_results = tfp.mcmc.sample_chain(\n",
    "    num_results=25000,\n",
    "    num_burnin_steps=7500,\n",
    "    current_state=initial_state,\n",
    "    kernel= tfp.mcmc.TransformedTransitionKernel(\n",
    "    tfp.mcmc.HamiltonianMonteCarlo(\n",
    "        posterior_log_prob,\n",
    "        step_size=0.00001,  ## Adjust if number accepted is very low\n",
    "        num_leapfrog_steps=10),\n",
    "    bijector=[\n",
    "        tfp.bijectors.SoftmaxCentered(),\n",
    "        tfp.bijectors.Identity(),    \n",
    "        tfp.bijectors.Identity(),    \n",
    "    ]))\n",
    "\n",
    "[p_post, locs_post, scales_post] = states\n",
    "accepted = kernel_results.inner_results.is_accepted"
   ]
  },
  {
   "cell_type": "code",
   "execution_count": 90,
   "metadata": {
    "collapsed": false
   },
   "outputs": [
    {
     "name": "stdout",
     "output_type": "stream",
     "text": [
      "accepted: 23673\n",
      "p: [0.02427132 0.80268216 0.17296545]\n",
      "loc: [ 2.1482491  1.2306561 -2.0794437]\n",
      "scale: [0.6568462  0.9944436  0.21424423]\n"
     ]
    }
   ],
   "source": [
    "with tf.Session() as sess:\n",
    "    [ p_post_, locs_post_, scales_post_, accepted_] = sess.run([\n",
    "        p_post, locs_post, scales_post, accepted])\n",
    "    \n",
    "print('accepted:', accepted_.sum())\n",
    "print('p:', np.mean(p_post_, axis=0))\n",
    "print('loc:', np.mean(locs_post_, axis=0))\n",
    "print('scale:', np.mean(scales_post_, axis=0))"
   ]
  },
  {
   "cell_type": "code",
   "execution_count": 95,
   "metadata": {
    "collapsed": false
   },
   "outputs": [
    {
     "data": {
      "text/plain": [
       "<matplotlib.legend.Legend at 0x7f184e1c9828>"
      ]
     },
     "execution_count": 95,
     "metadata": {},
     "output_type": "execute_result"
    },
    {
     "data": {
      "image/png": "[encoded data removed]",
      "text/plain": [
       "<Figure size 432x288 with 1 Axes>"
      ]
     },
     "metadata": {},
     "output_type": "display_data"
    }
   ],
   "source": [
    "for k in range(components):\n",
    "    sns.distplot(p_post_[:,k], label='{}'.format(k))\n",
    "plt.title('Split posterior')\n",
    "plt.legend()"
   ]
  },
  {
   "cell_type": "code",
   "execution_count": 96,
   "metadata": {
    "collapsed": false
   },
   "outputs": [
    {
     "data": {
      "text/plain": [
       "<matplotlib.legend.Legend at 0x7f184e008e48>"
      ]
     },
     "execution_count": 96,
     "metadata": {},
     "output_type": "execute_result"
    },
    {
     "data": {
      "image/png": "[encoded data removed]",
      "text/plain": [
       "<Figure size 432x288 with 1 Axes>"
      ]
     },
     "metadata": {},
     "output_type": "display_data"
    }
   ],
   "source": [
    "for k in range(components):\n",
    "    sns.distplot(locs_post_[:,k], label='{}'.format(k))\n",
    "plt.title('Center posterior')\n",
    "plt.legend()"
   ]
  },
  {
   "cell_type": "code",
   "execution_count": 97,
   "metadata": {
    "collapsed": false
   },
   "outputs": [
    {
     "data": {
      "text/plain": [
       "<matplotlib.legend.Legend at 0x7f184dfd4630>"
      ]
     },
     "execution_count": 97,
     "metadata": {},
     "output_type": "execute_result"
    },
    {
     "data": {
      "image/png": "[encoded data removed]",
      "text/plain": [
       "<Figure size 432x288 with 1 Axes>"
      ]
     },
     "metadata": {},
     "output_type": "display_data"
    }
   ],
   "source": [
    "for k in range(components):\n",
    "    sns.distplot(scales_post_[:, k], label='{}'.format(k))\n",
    "plt.title('Scale posterior')\n",
    "plt.legend()"
   ]
  },
  {
   "cell_type": "code",
   "execution_count": 98,
   "metadata": {
    "collapsed": false
   },
   "outputs": [
    {
     "data": {
      "text/plain": [
       "<matplotlib.legend.Legend at 0x7f184dd74f98>"
      ]
     },
     "execution_count": 98,
     "metadata": {},
     "output_type": "execute_result"
    },
    {
     "data": {
      "image/png": "[encoded data removed]",
      "text/plain": [
       "<Figure size 432x288 with 1 Axes>"
      ]
     },
     "metadata": {},
     "output_type": "display_data"
    }
   ],
   "source": [
    "pcs = [tfp.distributions.Normal(loc=locs_post_[:,k], scale=scales_post_[:,k]).sample() for k in range(components)]\n",
    "\n",
    "with tf.Session() as sess:\n",
    "    pcs_ = sess.run(pcs)\n",
    "    \n",
    "for k, pcs_k in enumerate(pcs_):\n",
    "    sns.distplot(pcs_k, label='{}'.format(k))\n",
    "plt.title('Cluster posteriors')\n",
    "plt.legend()"
   ]
  },
  {
   "cell_type": "code",
   "execution_count": null,
   "metadata": {
    "collapsed": true
   },
   "outputs": [],
   "source": []
  },
  {
   "cell_type": "code",
   "execution_count": null,
   "metadata": {
    "collapsed": true
   },
   "outputs": [],
   "source": []
  }
 ],
 "metadata": {
  "kernelspec": {
   "display_name": "probabilistic",
   "language": "python",
   "name": "tfnightly"
  },
  "language_info": {
   "codemirror_mode": {
    "name": "ipython",
    "version": 3
   },
   "file_extension": ".py",
   "mimetype": "text/x-python",
   "name": "python",
   "nbconvert_exporter": "python",
   "pygments_lexer": "ipython3",
   "version": "3.5.2"
  }
 },
 "nbformat": 4,
 "nbformat_minor": 2
}
